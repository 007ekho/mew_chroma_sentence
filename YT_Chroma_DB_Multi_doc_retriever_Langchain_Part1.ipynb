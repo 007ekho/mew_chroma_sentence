{
  "cells": [
    {
      "cell_type": "code",
      "execution_count": 1,
      "metadata": {
        "colab": {
          "base_uri": "https://localhost:8080/"
        },
        "id": "RRYSu48huSUW",
        "outputId": "64e4984b-4b62-4709-847a-a021d4730a8f"
      },
      "outputs": [
        {
          "name": "stderr",
          "output_type": "stream",
          "text": [
            "\n",
            "[notice] A new release of pip is available: 23.3.2 -> 24.0\n",
            "[notice] To update, run: python.exe -m pip install --upgrade pip\n"
          ]
        }
      ],
      "source": [
        "!pip -q install langchain openai tiktoken chromadb"
      ]
    },
    {
      "cell_type": "code",
      "execution_count": 2,
      "metadata": {
        "colab": {
          "base_uri": "https://localhost:8080/"
        },
        "id": "J-KFB7J_u_3L",
        "outputId": "a29ed872-d0bc-41ef-bb72-b6a0fe426a08"
      },
      "outputs": [
        {
          "name": "stdout",
          "output_type": "stream",
          "text": [
            "Name: langchain\n",
            "Version: 0.1.0\n",
            "Summary: Building applications with LLMs through composability\n",
            "Home-page: https://github.com/langchain-ai/langchain\n",
            "Author: \n",
            "Author-email: \n",
            "License: MIT\n",
            "Location: c:\\python\\lib\\site-packages\n",
            "Requires: aiohttp, async-timeout, dataclasses-json, jsonpatch, langchain-community, langchain-core, langsmith, numpy, pydantic, PyYAML, requests, SQLAlchemy, tenacity\n",
            "Required-by: langchain-experimental, langserve, trulens-eval\n"
          ]
        }
      ],
      "source": [
        "!pip show langchain"
      ]
    },
    {
      "cell_type": "code",
      "execution_count": 3,
      "metadata": {
        "id": "l6XPLPVrqEaV"
      },
      "outputs": [],
      "source": [
        "# !wget -q https://www.dropbox.com/s/vs6ocyvpzzncvwh/new_articles.zip\n",
        "# !unzip -q new_articles.zip -d new_articles"
      ]
    },
    {
      "cell_type": "code",
      "execution_count": 4,
      "metadata": {},
      "outputs": [],
      "source": [
        "from langchain.document_loaders import PyPDFLoader\n",
        "from langchain.text_splitter import RecursiveCharacterTextSplitter\n",
        "from langchain.document_loaders import PyPDFLoader\n",
        "from langchain.document_loaders import DirectoryLoader\n",
        "\n",
        "# Replace 'PyPDFLoader' with the appropriate loader class if needed\n",
        "\n",
        "# Specify the directory containing PDF files\n",
        "directory_path = './data'\n",
        "\n",
        "# Create a DirectoryLoader instance\n",
        "loader = DirectoryLoader(directory_path, glob=\"./*.pdf\", loader_cls=PyPDFLoader)\n",
        "\n",
        "# Load documents from the specified directory\n",
        "documents = loader.load()\n"
      ]
    },
    {
      "cell_type": "code",
      "execution_count": 5,
      "metadata": {},
      "outputs": [],
      "source": [
        "#splitting the text into\n",
        "text_splitter = RecursiveCharacterTextSplitter(chunk_size=1000, chunk_overlap=200)\n",
        "texts = text_splitter.split_documents(documents)"
      ]
    },
    {
      "cell_type": "code",
      "execution_count": 6,
      "metadata": {},
      "outputs": [
        {
          "data": {
            "text/plain": [
              "[Document(page_content='Assessment of eligibility for \\nconcessionary travel passes \\nfor disabled people -  \\nMethod Statement', metadata={'source': 'data\\\\Method-statement.pdf', 'page': 0}),\n",
              " Document(page_content='West Midlands Combined \\nAuthority Method Statement\\nAssessment of eligibility for concessionary \\ntravel passes for disabled people \\n1. Purpose of document\\n1.1 \\nThis document sets out West Midlands \\nCombined Authority practice when \\nconsidering applications for concessionary \\ntravel passes for disabled people. \\n1.2\\nThe statement describes a detailed \\ninterpretation of the seven eligibility \\n‘categories’ defined in the Transport Act \\n2000. West Midlands Combined Authority \\nwill apply this statement in order to arrive \\nat a decision on eligibility for a disabled \\nresident.\\n1.3\\nThis statement does not describe the \\napplication process itself.\\n1.4 \\nIf you would like a copy of this statement in \\na form more suited to your needs, please call \\n0345 303 6760.\\nWe use Language Line and can offer a \\ntelephone interpreting service if required.\\n2. Background\\n2.1 \\nThe Transport Act 2000 provides a statutory \\ndiscount on local bus services for eligible \\nelderly and disabled people, with the grant', metadata={'source': 'data\\\\Method-statement.pdf', 'page': 1}),\n",
              " Document(page_content='telephone interpreting service if required.\\n2. Background\\n2.1 \\nThe Transport Act 2000 provides a statutory \\ndiscount on local bus services for eligible \\nelderly and disabled people, with the grant \\nof concessions governed by Sections 145 to \\n150 of the Act. This provision was modified by the Concessionary Bus Travel Act 2007, \\nwhich from 1 April 2008, provides free travel \\non registered local bus services anywhere in \\nEngland for those eligible, between 9.30am \\nand 11pm on weekdays and all day weekends \\nand bank holidays.\\n2.2 \\nThe statutory concessionary travel pass \\nis issued by local authorities who are \\ndesignated ‘Travel Concession Authorities’. \\nFor the purposes of the Act, West Midlands \\nCombined Authority, as an Integrated \\nTransport Authority (ITA), acts on behalf \\nof the ITA’s seven district councils of \\nBirmingham, Coventry, Dudley, Sandwell, \\nSolihull, Walsall and Wolverhampton.\\n2.3 \\nTravel Concession Authorities are required \\nto issue a travel pass free of charge to any', metadata={'source': 'data\\\\Method-statement.pdf', 'page': 1}),\n",
              " Document(page_content='Birmingham, Coventry, Dudley, Sandwell, \\nSolihull, Walsall and Wolverhampton.\\n2.3 \\nTravel Concession Authorities are required \\nto issue a travel pass free of charge to any \\napplicant who is an eligible disabled person \\n(see paragraph 3.1) ‘residing’ in its area. \\nResidency is a key condition that must be \\nmet. The courts have held that a person is \\nproperly resident in a place where their stay \\nhas a considerable degree of permanence to \\nit. All applicants will be required to produce \\nevidence in support of residency, such as a \\nutility bill (not more than six months old) and \\nmay be required to confirm their residency \\nto West Midlands Combined Authority \\nafter a period of time following any initial \\nacceptance of eligibility. Where an applicant \\nowns two properties, the place of residence \\nshall be that considered to be their principal \\nor main residence. As Asylum Seekers are \\nconsidered to be awaiting determination \\nof their status, they will not be considered', metadata={'source': 'data\\\\Method-statement.pdf', 'page': 1}),\n",
              " Document(page_content='shall be that considered to be their principal \\nor main residence. As Asylum Seekers are \\nconsidered to be awaiting determination \\nof their status, they will not be considered \\npermanently resident for the purpose of \\nassessing eligibility for the travel concession. \\nStudents must provide proof of university \\nresidence valid for a 12 month period. \\n2.4 \\nA disabled person is defined by seven \\ncategories set out in Section 146 of the 2000 \\nAct, where no age limit applies. However,', metadata={'source': 'data\\\\Method-statement.pdf', 'page': 1}),\n",
              " Document(page_content='as travel for children under the age of five \\nis free, West Midlands Combined Authority \\nwill not consider an application in respect \\nof a disabled child until their fifth birthday. \\nWhen a disabled person reaches the age of \\neligibility for a concessionary travel pass for \\nolder people and is permanently entitled to \\nthe travel concession on the grounds of age, \\nthey will be treated as an older person for \\nthe purpose of issuing future travel passes \\nregardless of any previous claims for a \\ndisabled pass.\\n2.5 \\nThe Act also enables local authorities \\nto continue to offer benefits above the \\nstatutory entitlement to\\nresidents. In the West Midlands Combined \\nAuthority area passes are also valid on all \\ntrains and Metro. Travel is extended from \\n11pm until the end of daytime service in the \\nWest Midlands Combined Authority area.\\n3. Transport Act 2000 \\neligibility categories\\n3.1 \\nThere are seven categories of disabled \\npeople entitled to the statutory minimum', metadata={'source': 'data\\\\Method-statement.pdf', 'page': 2}),\n",
              " Document(page_content='West Midlands Combined Authority area.\\n3. Transport Act 2000 \\neligibility categories\\n3.1 \\nThere are seven categories of disabled \\npeople entitled to the statutory minimum \\ntravel concession. These are set out in \\nsection 146 of the 2000 Act and are listed \\nbelow:\\na) Is blind or partially sighted in both eyes;\\nb) Is profoundly or severely deaf in \\nboth ears;\\nc) Is without speech;\\nd) Has a disability, or has suffered an injury, \\nwhich has a substantial and long-term \\nadverse effect on ability to walk;\\ne) Does not have arms or has long-term loss \\nof the use of both arms;\\nf) Has a learning disability, that is, a state of \\narrested or incomplete development of mind \\nwhich includes significant impairment of \\nintelligence and social functioning;g) Would, if applied for the grant of a licence \\nto drive a motor vehicle under Part \\n3 of the Road Traffic Act 1988, have the \\napplication refused pursuant to section 92 of \\nthe Act (physical fitness) otherwise than on', metadata={'source': 'data\\\\Method-statement.pdf', 'page': 2}),\n",
              " Document(page_content='to drive a motor vehicle under Part \\n3 of the Road Traffic Act 1988, have the \\napplication refused pursuant to section 92 of \\nthe Act (physical fitness) otherwise than on \\nthe grounds of persistent misuse of drugs or \\nalcohol.\\n3.2 \\nThe categories listed above do not cover \\nthe full range of disabled people included in \\nthe Equality Act 2010. However, the types \\nof disability which should enable people to \\nclaim the statutory travel concession are \\nthose which are permanent, or which have \\nlasted at least 12 months, or which are likely \\nto last at least 12 months. The disability \\nshould have a substantial effect on a \\nperson’s ability to carry out normal day-to-\\nday activities.\\n3.3 \\nUnder the terms of the 2000 Act it is for \\nthe local authority to determine whether \\nsomeone is a ‘disabled person’ for the \\npurposes of concessionary travel.\\n4. Department for \\nTransport guidance\\n4.1 \\nThe Department for Transport (DfT) has \\nproduced guidance to Travel Concession', metadata={'source': 'data\\\\Method-statement.pdf', 'page': 2}),\n",
              " Document(page_content='someone is a ‘disabled person’ for the \\npurposes of concessionary travel.\\n4. Department for \\nTransport guidance\\n4.1 \\nThe Department for Transport (DfT) has \\nproduced guidance to Travel Concession \\nAuthorities on assessing the eligibility \\nof disabled people. ‘Guidance to Local \\nAuthorities on Assessing Eligibility \\nof Disabled People in England for \\nConcessionary Bus Travel’ was issued in 2013 \\n(1.2) West Midlands Combined Authority \\nhas used this to help develop its Method \\nStatement for assessment of eligible \\ndisabled persons in the West Midlands.', metadata={'source': 'data\\\\Method-statement.pdf', 'page': 2}),\n",
              " Document(page_content='5. West Midlands Combined \\nAuthority statement on \\neligibility criteria\\n5.1 \\nThis section defines the interpretation of the \\nTransport Act criteria and DfT guidance that \\nWest Midlands Combined Authority uses in \\norder to reach a decision on eligibility for the \\nconcessionary travel pass.\\n5.2 \\nThe DfT requires the applicant to prove their \\nentitlement. In considering each application \\nWest Midlands Combined Authority uses \\na comprehensive approach to determine \\neligibility for the travel pass. This requires \\napplicants to provide evidence that their \\ndisabilities or medical conditions are such \\nthat they meet the criteria set out.\\n5.3 \\nWest Midlands Combined Authority will \\nconsider a range of evidence to determine \\neligibility. Some evidence is categorised \\nas ‘permanent’, and this will usually not \\nrequire any subsequent review. Other \\nevidence may be judged to be ‘temporary’, \\nand will therefore require a review at a \\npre-determined period. West Midlands', metadata={'source': 'data\\\\Method-statement.pdf', 'page': 3}),\n",
              " Document(page_content='require any subsequent review. Other \\nevidence may be judged to be ‘temporary’, \\nand will therefore require a review at a \\npre-determined period. West Midlands \\nCombined Authority will not accept original \\ndocuments, only copies for the purpose of \\nassessing.\\n5.4 \\nTo help assess the eligibility of each \\napplicant, West Midlands Combined \\nAuthority may consult a medical \\nprofessional, which could include an \\napplicant’s General Practitioner or an \\nindependent medical assessor as detailed in \\nsection 7.5.5 \\nTo help assess the eligibility of each \\napplicant, West Midlands Combined \\nAuthority may consult with the applicant’s \\nSENCO, Head teacher, social and care worker.\\n5.6 \\nCorrespondence and travel passes will only \\nbe posted to the applicants home address\\n5.7 \\nReview Periods\\nThe setting of review periods will be at the \\ndiscretion of the assessor.\\nThe following circumstances will be taken \\ninto account by West Midlands Combined \\nAuthority in determining the review period:', metadata={'source': 'data\\\\Method-statement.pdf', 'page': 3}),\n",
              " Document(page_content='discretion of the assessor.\\nThe following circumstances will be taken \\ninto account by West Midlands Combined \\nAuthority in determining the review period:\\n Where state benefits are due to expire;\\n Where surgery may improve an applicant’s \\ncondition;\\n Epilepsy, where there is not a continuous \\nhistory of uncontrolled seizures;\\n Diabetics with uncontrolled hypoglycaemic \\nepisodes;\\n Where conditions may improve following \\nmedical intervention;\\n Anyone with a condition that has the \\npotential to improve over time;\\n Children or young people whose condition \\nmay alter with time;\\n Some mental health conditions.\\n5.8 \\nAppeals\\nWest Midlands Combined Authority does \\nnot provide a formal right of appeal, however \\napplicants who are refused may write to \\nWest Midlands Combined Authority on the \\nfollowing basis: -\\n If the applicant considers the \\nrefusal decision to be a result of the \\nmisinterpretation of a material fact.\\nWest Midlands Combined Authority will then', metadata={'source': 'data\\\\Method-statement.pdf', 'page': 3}),\n",
              " Document(page_content='following basis: -\\n If the applicant considers the \\nrefusal decision to be a result of the \\nmisinterpretation of a material fact.\\nWest Midlands Combined Authority will then \\nreconsider the original decision and advise \\nthe applicant accordingly.', metadata={'source': 'data\\\\Method-statement.pdf', 'page': 3}),\n",
              " Document(page_content='5.9 \\nA further application will not be considered \\nwithin a twelve month period of the decision \\ndate. After this time an applicant may \\nreapply on the following basis:\\n If the applicant’s health has deteriorated to \\nan identifiable degree;\\n If new and relevant information is available \\nsince the original application.\\n6 Eligibility criteria\\n6.1 \\nThe shaded box areas in this section are the \\nguidance notes issued by the Department \\nfor Transport for each of the seven categories \\ndescribed in section 3.1 and 6.2 \\n6.2 \\nFor ease of reference, the seven categories \\nare as follows: -\\na) blind or partially sighted in both eyes - \\nparagraphs 6.3-6.4\\nb) profoundly or severely deaf in both ears – \\nparagraphs 6.5-6.6\\nc) without speech – paragraphs 6.7-6.8\\nd) ability to walk – paragraphs 6.9-6.10\\ne) does not have arms/long-term loss of the \\nuse of both arms – paragraphs \\n6.11-6.12\\nf) learning disability – paragraphs \\n6.13-6.14\\ng) refusal of a driving licence – paragraphs \\n6.15-6.16 \\n6.3', metadata={'source': 'data\\\\Method-statement.pdf', 'page': 4}),\n",
              " Document(page_content='e) does not have arms/long-term loss of the \\nuse of both arms – paragraphs \\n6.11-6.12\\nf) learning disability – paragraphs \\n6.13-6.14\\ng) refusal of a driving licence – paragraphs \\n6.15-6.16 \\n6.3 \\nBlind or partially sighted DfT Guidance \\nCategory a) - is blind or partially sighted. \\n‘Blind’ means having a high degree of vision \\nloss i.e. seeing much less than is normal or \\nperhaps nothing at all. ‘Partially sighted’ is \\na less severe loss of vision. Partially sighted \\npeople can see more than someone who is \\nblind, but less than a fully sighted person. \\nBlind and partially sighted people can register with their local council. The register \\nis held by the social services or social work \\ndepartment, or by a local voluntary agency, \\nand is confidential. \\nFor registration purposes, the term ‘blind’ \\nnow becomes ‘severely sight impaired \\n(blind)’ and partially sighted becomes ‘sight \\nimpaired (partially sighted)”. The formal \\nnotification required to register as “severely', metadata={'source': 'data\\\\Method-statement.pdf', 'page': 4}),\n",
              " Document(page_content='now becomes ‘severely sight impaired \\n(blind)’ and partially sighted becomes ‘sight \\nimpaired (partially sighted)”. The formal \\nnotification required to register as “severely \\nsight impaired” or “sight impaired” is a \\nCertificate of Vision Impairment (CVI), signed \\nby a Consultant Ophthalmologist (eye \\nspecialist). However, registration is voluntary. \\nThe individual should have a copy of their \\nCVI and should be encouraged to register, if \\nthey have not already done so, as they may \\nbe entitled to various other benefits too. \\nIn general terms a person can be registered \\nas severely sight impaired (blind) if they \\ncannot see (with glasses, if worn) the top \\nletter of the eye test chart (used by doctors \\nand opticians) at a distance of 3 metres or \\nless. Some people who can read the top \\nletter of an eye test chart at 3 metres, but \\nnot at 6 metres, may still be eligible for \\nregistration as blind if their field of vision is \\nalso severely restricted. Only being able to', metadata={'source': 'data\\\\Method-statement.pdf', 'page': 4}),\n",
              " Document(page_content='letter of an eye test chart at 3 metres, but \\nnot at 6 metres, may still be eligible for \\nregistration as blind if their field of vision is \\nalso severely restricted. Only being able to \\nread the top letter at 3 metres is sometimes \\nreferred to as 3/60 vision: the person can \\nsee at 3 metres what a person with normal \\nvision can see at 60 metres. \\nA person can be registered as sight impaired \\n(partially sighted) if they have a full field of \\nvision but can only read the top letter of the \\neye test chart at a distance of 6 metres or \\nless (with glasses, if worn). However, if they \\ncan read the next three lines down at the \\nsame distance, but the field of vision is either \\nmoderately or severely restricted, they may \\nstill qualify for registration. \\nThe Department advises that concessionary \\ntravel passes should be issued to people \\nwhose sight is so impaired that they would \\nbe able to register as severely sight impaired \\n(blind) or sight impaired (partially sighted).', metadata={'source': 'data\\\\Method-statement.pdf', 'page': 4}),\n",
              " Document(page_content='Local authorities may, where a person is \\nnot on the local authority register, require \\nevidence from an eye specialist, for example \\nan optometrist, that the applicant would \\nqualify to be registered as severely sight \\nimpaired (blind) or sight impaired (partially \\nsighted).\\nAdvice on how to register can be found on \\nthe Royal National Institute for the Blind \\n(RNIB) website at: http:/ /www.rnib.org.\\nuk/xpedio/groups/public/documents/\\npublicwebsite/public_registration_home.\\nhcsp\\n6.4 \\nWest Midlands Combined Authority will \\nconsider the evidence listed below for the \\npurposes of determining eligibility under this \\ncriterion:\\n Proof of registration with the local \\nauthority;\\n Certificate of Visual Impairment;\\n BD8 (old certification system). Eligibility \\nunder this criterion will usually be categorised \\nas permanent.\\n6.5 \\nProfoundly or severely deaf\\nDfT Guidance Category b) - is profoundly or \\nseverely deaf\\nHearing loss is measured in decibels \\nacross the normal hearing spectrum, as', metadata={'source': 'data\\\\Method-statement.pdf', 'page': 5}),\n",
              " Document(page_content='as permanent.\\n6.5 \\nProfoundly or severely deaf\\nDfT Guidance Category b) - is profoundly or \\nseverely deaf\\nHearing loss is measured in decibels \\nacross the normal hearing spectrum, as \\ndBHL (Hearing Level). People are generally \\nregarded as having a severe hearing loss if it \\nreaches 70-95 dBHL and a profound loss if it \\nreaches 95+ dBHL. The Department advises \\nthat the statutory minimum concession \\nshould be made available to people in these \\ncategories.\\nThere is no statutory registration system \\nfor deaf people. However, many will be \\nregistered on a voluntary basis with their \\nlocal authority social services department. \\nThe register is open to people who have \\nvarying degrees of hearing loss, so in checking the register a local authority is \\nadvised to check that the applicant is \\nprofoundly or severely deaf before issuing a \\nnational concession bus pass.\\nAs in the case of blind and partially sighted \\npeople, local authorities may, where', metadata={'source': 'data\\\\Method-statement.pdf', 'page': 5}),\n",
              " Document(page_content='profoundly or severely deaf before issuing a \\nnational concession bus pass.\\nAs in the case of blind and partially sighted \\npeople, local authorities may, where \\nappropriate, require applicants to provide \\nevidence of registration before issuing a \\npass, or evidence that they could register, for \\nexample, an audiological report, or a report \\nfrom an aural specialist.\\n6.6 \\nWest Midlands Combined Authority will \\nconsider the evidence listed below for the \\npurposes of determining eligibility under this \\ncriterion:\\n Confirmation of registration from local \\nauthority social services department as being \\nprofoundly or severely deaf.\\n Audiogram or letter from a medical \\nprofessional indicating hearing loss has \\nreached 70-95+ dBHL in both ears\\nIt is considered normal for older adults to \\nlose the pitch at over 8000. Therefore, for \\nthe purpose of determining eligibility, the \\naverage hearing loss will be calculated for \\neach ear excluding the 8000+ pitch.', metadata={'source': 'data\\\\Method-statement.pdf', 'page': 5}),\n",
              " Document(page_content='lose the pitch at over 8000. Therefore, for \\nthe purpose of determining eligibility, the \\naverage hearing loss will be calculated for \\neach ear excluding the 8000+ pitch.\\nEligibility under this criterion will usually be \\ncategorised as permanent.\\n6.7 \\nWithout speech\\nDfT Guidance Category c) - is without speech\\nIncluded within this category are people who \\nare unable to communicate orally in any \\nlanguage. Those people will be: \\n unable to make clear basic oral requests \\ne.g. to ask for a particular destination or fare;\\n unable to ask specific questions to clarify \\ninstructions e.g. ‘Does this bus go to the High \\nStreet?’', metadata={'source': 'data\\\\Method-statement.pdf', 'page': 5}),\n",
              " Document(page_content='This category would not, in the Department’s \\nopinion, cover people who are able to \\ncommunicate orally but whose speech \\nmay be slow or difficult to understand, for \\nexample because of a severe stammer.\\nIn considering an application on these \\ngrounds the local authority may reasonably \\nrequire medical evidence to support the \\napplication in appropriate cases.\\n6.8 \\nWest Midlands Combined Authority will \\nconsider the evidence listed below for the \\npurposes of determining eligibility under this \\ncriterion:\\n Letter from the Department of Work \\nand Pensions (DWP) confirming receipt of \\nPersonal Independence Payment (PIP) at an \\nenhanced rate with a score of at least eight \\npoints for the “communicating verbally” \\nactivity.\\n Medical report confirming completely \\nwithout speech.\\n6.9 \\nAbility to walk\\nDfT Guidance Category d) - has a disability, \\nor has suffered an injury, which has a \\nsubstantial and long term adverse\\neffect on ability to walk\\nTo qualify under this category, a person', metadata={'source': 'data\\\\Method-statement.pdf', 'page': 6}),\n",
              " Document(page_content='DfT Guidance Category d) - has a disability, \\nor has suffered an injury, which has a \\nsubstantial and long term adverse\\neffect on ability to walk\\nTo qualify under this category, a person \\nwould have to have a long term and \\nsubstantial disability that means they\\ncannot walk or which makes walking very \\ndifficult.\\nIt is envisaged that passes will be issued to \\npeople who can only walk with excessive \\nlabour and at an extremely slow pace or with \\nexcessive pain. Their degree of impairment \\nshould be at comparable level to that \\nrequired to claim the Higher Rate Mobility \\nComponent of Disability Living /standard \\nor enhanced rate of mobility component of Personal Independence Payments. This is \\nset out below:\\n(i) they cannot walk or\\nBeing unable to walk means that they \\ncannot take a single step. They need to show \\nthat because of their disability they cannot \\nput one foot in front of the other. Walking \\ninvolves always having one foot on the', metadata={'source': 'data\\\\Method-statement.pdf', 'page': 6}),\n",
              " Document(page_content='cannot take a single step. They need to show \\nthat because of their disability they cannot \\nput one foot in front of the other. Walking \\ninvolves always having one foot on the \\nground. If their only way of getting about is \\nto swing through crutches then they will be \\nconsidered unable to walk.\\n(ii) they are virtually unable to walk, or\\nThey will need to show that, as a result \\nof a physical disability, they are unable to \\nwalk very far without experiencing severe \\ndiscomfort. This question does not apply to \\npeople with mental disabilities, your inability \\nto walk very far must stem from a physical \\ncondition.\\nThe Department for Works and Pensions \\ntake a number of factors into account when \\ndeciding whether or not\\nsomeone meets this criterion. For example:\\nDiscomfort can mean either pain or \\nbreathlessness. Extreme fatigue and stress \\nmay also be taken into account. It has been \\naccepted that discomfort is subjective \\nand that some people have higher pain', metadata={'source': 'data\\\\Method-statement.pdf', 'page': 6}),\n",
              " Document(page_content='breathlessness. Extreme fatigue and stress \\nmay also be taken into account. It has been \\naccepted that discomfort is subjective \\nand that some people have higher pain \\nthresholds than others. Unless both legs are \\nmissing then they will need to show that they \\nexperience severe discomfort even when \\nusing an artificial aid.\\nWhen deciding whether they are virtually \\nunable to walk the following factors should \\nbe taken into account:\\n the distance over which they can walk \\nwithout experiencing severe discomfort\\n the speed at which they can walk\\n the length of time for which they can walk\\n the manner in which they can walk', metadata={'source': 'data\\\\Method-statement.pdf', 'page': 6}),\n",
              " Document(page_content='If they can only walk up to 27 metres without \\nsevere discomfort then they will qualify for \\nthe higher rate.\\nIf they can only walk between 27 and 64 \\nmetres without severe discomfort then it is \\nlikely that they will qualify for the higher rate.\\nIf they can walk more than 64 metres \\nwithout severe discomfort then they will \\nneed to show that the other three factors \\nmean that they are virtually unable to walk. \\nFor example, if they can show that it takes \\nthem five minutes to walk 100 metres, they \\nshould qualify for the higher rate.\\nAs a guide, the average person can walk the \\nfollowing in a minute:\\n 90 metres at a brisk pace\\n 60-70 metres at a moderate speed\\n 40-50 metres at a slow pace\\n 30-40 at a very slow pace\\nIt does not matter whether the severe \\ndiscomfort occurs at the time of their walk or \\nlater. What counts is that the discomfort is a \\ndirect result of their attempt to walk.\\n(iii) The exertion required to walk would \\n“constitute a danger to their life.', metadata={'source': 'data\\\\Method-statement.pdf', 'page': 7}),\n",
              " Document(page_content='later. What counts is that the discomfort is a \\ndirect result of their attempt to walk.\\n(iii) The exertion required to walk would \\n“constitute a danger to their life.\\nThe test here is whether the exertion required \\nto walk would constitute a danger to their \\nlife, or whether it would be likely to lead to a \\nserious deterioration in their health.\\nThey need to show they should not walk very \\nfar because of the danger to their health.\\nThis criterion is intended for people with \\nserious chest, lung or heart conditions.\\nSome people with haemophilia may also \\nqualify for the higher rate in this way.The serious deterioration does not need to \\nbe permanent but it should require medical \\nintervention for them to\\nrecover.\\nThey will need to show that any danger to \\ntheir health is a direct result of the physical \\neffort required to walk.\\nPeople with epilepsy will need to show that \\nany fits were brought about by the effort \\nrequired to walk.\\nIn all cases, entitlement depends on', metadata={'source': 'data\\\\Method-statement.pdf', 'page': 7}),\n",
              " Document(page_content='effort required to walk.\\nPeople with epilepsy will need to show that \\nany fits were brought about by the effort \\nrequired to walk.\\nIn all cases, entitlement depends on \\nthe applicant’s difficulty in walking and \\nconsiderations, such as difficulty in\\ncarrying parcels, are not to be taken into \\naccount.\\nThe fact that a walking aid is or is not used \\nmay be relevant to the eventual decision, but \\nthese alone should not determine whether \\nor not a person qualifies. For example, if \\na person can walk relatively normally with \\nthe use of an artificial leg, then they should \\nnot be considered eligible. Alternatively, \\na person who can only swing through on \\ncrutches could be considered eligible, as \\nthey would be seen as having considerable \\ndifficulty walking (provided it is due to a long \\nterm disability and not due to legs being in \\nplaster).\\nThe Department advises that the authority \\nshould normally require medical evidence to \\nsupport the claim that', metadata={'source': 'data\\\\Method-statement.pdf', 'page': 7}),\n",
              " Document(page_content='term disability and not due to legs being in \\nplaster).\\nThe Department advises that the authority \\nshould normally require medical evidence to \\nsupport the claim that\\nthe applicant’s walking ability is long term \\nand substantially impaired.\\n6.10 \\nWest Midlands Combined Authority will \\nconsider the evidence listed below for the \\npurposes of determining eligibility under this \\ncriterion:\\n Proof of receipt of Higher Rate of Mobility \\nComponent of Disability Living Allowance*;', metadata={'source': 'data\\\\Method-statement.pdf', 'page': 7}),\n",
              " Document(page_content='Proof of receipt of Mobility component of \\nPersonal Independence Payment*;\\n Proof of receipt of War Pensioner’s Mobility \\nSupplement*;\\n Proof of Disabled Persons’ Parking permit \\n(new style plastic Blue Badge only)\\n An assessment made by a medical \\nassessor as detailed in paragraph 7.1.\\n*West Midlands Combined Authority will \\nconsider this evidence provided the benefit \\nhas been in place for at least 12 months, or is \\nexpected to\\nbe in place for at least 12 months.\\n6.11 \\nDoes not have arms or has long-term loss of \\nthe use of both arms\\nDfT Guidance Category e) - does not have \\narms or has long-term loss of the use of both \\narms\\nThis category includes people with a limb \\nreduction deficiency of both arms; bilateral \\nupper limb amputation;\\nmuscular dystrophy; spinal cord injury; \\nmotor neurone disease; or a condition of \\ncomparable severity.\\nIn the Department’s opinion, it also covers \\nboth people with deformity of both arms, \\nand people who have both arms, if in either', metadata={'source': 'data\\\\Method-statement.pdf', 'page': 8}),\n",
              " Document(page_content='motor neurone disease; or a condition of \\ncomparable severity.\\nIn the Department’s opinion, it also covers \\nboth people with deformity of both arms, \\nand people who have both arms, if in either \\ncase they are unable to use them to carry out \\nday-to-day tasks, for example, paying coins \\ninto a fare machine. In these latter cases the \\nDepartment advises that a local authority \\nshould normally require independent \\nmedical evidence to support the application.\\n6.12 \\nWest Midlands Combined Authority will \\nconsider the evidence listed below for the \\npurposes of determining eligibility under this \\ncriterion:\\n A medical report proving disability; An assessment made by a medical \\nassessor as detailed in paragraph 7.1.\\nEligibility under this criterion will usually be \\ncategorised as permanent.\\n6.13 \\nLearning disability\\nDfT Guidance Category f) – has a learning \\ndisability, that is, a state of arrested or \\nincomplete development of mind\\nwhich includes significant impairment of', metadata={'source': 'data\\\\Method-statement.pdf', 'page': 8}),\n",
              " Document(page_content='6.13 \\nLearning disability\\nDfT Guidance Category f) – has a learning \\ndisability, that is, a state of arrested or \\nincomplete development of mind\\nwhich includes significant impairment of \\nintelligence and social functioning\\nA person with a learning disability has \\na reduced ability to understand new or \\ncomplex information, difficulty in learning \\nnew skills, and may be unable to cope \\nindependently. These disabilities must have \\nstarted before adulthood and have a lasting \\neffect on development. The person should \\nbe able to qualify for specialist services and \\nhe or she may have had special educational \\nprovision.\\nThe Department of Health adopted the term \\n‘learning disability’ in 1992. It has the same \\nmeaning as its predecessor\\n‘mental handicap’ but it is seen as more \\nacceptable, particularly in reducing the \\nconfusion with mental illness.\\nIn determining eligibility in a case where \\nthere has been no previous contact with \\nspecialist services a local authority should', metadata={'source': 'data\\\\Method-statement.pdf', 'page': 8}),\n",
              " Document(page_content='confusion with mental illness.\\nIn determining eligibility in a case where \\nthere has been no previous contact with \\nspecialist services a local authority should \\nnormally require independent medical \\nadvice, or check any register of people with \\nlearning disabilities which might be held \\nby the Social Services Department of the \\napplicant’s local council.\\n6.14 \\nWest Midlands Combined Authority will \\nconsider the evidence listed below for the \\npurposes of determining eligibility under this \\ncriterion:', metadata={'source': 'data\\\\Method-statement.pdf', 'page': 8}),\n",
              " Document(page_content='The contents of a statement of Special \\nEducational Needs if provided, which shows \\na global development delay;\\n Proof of registration on a Social Services \\nDepartment register confirming receipt of \\nlearning disability specialist services;\\n Care plan / support plan.\\n A letter from a head teacher or SENCO \\nconfirming that the applicant meets the \\nrequirements\\n A letter from a medical professional \\nconfirming a mild/moderate/severe learning \\ndisability\\n An assessment made by a medical \\nassessor as detailed in paragraph 7.1.\\n6.15 \\nRefusal of a driving licence\\nDfT Guidance Category g) – would, if they \\napplied for the grant of a licence to drive \\na motor vehicle under Part111 of the Road \\nTraffic Act 1988, have their application \\nrefused pursuant to section 92 of the Act \\n(physical fitness) otherwise than on the \\nground of persistent misuse of drugs or \\nalcohol.\\nUnder Section 92 of the Road Traffic Act \\n1988 the Secretary of State may refuse to \\nissue a driving licence on the', metadata={'source': 'data\\\\Method-statement.pdf', 'page': 9}),\n",
              " Document(page_content='ground of persistent misuse of drugs or \\nalcohol.\\nUnder Section 92 of the Road Traffic Act \\n1988 the Secretary of State may refuse to \\nissue a driving licence on the\\ngrounds of the applicant’s medical fitness. \\nThose who are currently barred from holding \\na licence are people with:\\ni. epilepsy (unless it is of a type which does \\nnot pose a danger - see below);\\nii. severe mental disorder;\\niii liability to sudden attacks of giddiness \\nor fainting (whether as a result of cardiac \\ndisorder or otherwise);\\niii. inability to read a registration plate in \\ngood light at 20.5 metres (with lenses if \\nworn);iv. other disabilities which are likely to cause \\nthe driving of vehicles by them to be a source \\nof danger to the public.\\nIt will be seen that specific reference is made \\nto people who persistently misuse drugs or \\nalcohol. Those people are not covered by the \\ndefinition of ‘disabled person’ under the Act \\nand are thus not entitled to the statutory \\nminimum travel concession.', metadata={'source': 'data\\\\Method-statement.pdf', 'page': 9}),\n",
              " Document(page_content='alcohol. Those people are not covered by the \\ndefinition of ‘disabled person’ under the Act \\nand are thus not entitled to the statutory \\nminimum travel concession.\\nIt is not a condition of entitlement under this \\ncategory that the disabled person should \\napply for and be refused a driving licence \\n(which would be unduly burdensome for \\neveryone involved). If, for people with any of \\nthe disabilities (ii) - (iv) listed above, the local \\nauthority can be confident that a licence \\nwould be refused it should therefore be able \\nto issue the travel pass automatically. For \\n(i) epilepsy - the bar is not automatic and \\ndepends on the circumstances.\\nThe Motor Vehicles (Driving Licences) \\nRegulations 1999 permit the grant of a \\ndriving licence to a person with\\nepilepsy if that person:\\n(a) has not had an epileptic attack whilst \\nawake for a year or more; or\\n(b) has a history of attacks whilst asleep, \\nand only whilst asleep, over the past three \\nyears or more, ...provided that the driving of', metadata={'source': 'data\\\\Method-statement.pdf', 'page': 9}),\n",
              " Document(page_content='awake for a year or more; or\\n(b) has a history of attacks whilst asleep, \\nand only whilst asleep, over the past three \\nyears or more, ...provided that the driving of \\na vehicle by that person is not likely to cause \\ndanger to the public.\\nThere are a number of categories of “severe \\nmental disorder” under which people may \\nqualify. Authorities will need to assess \\nindividuals on a case-by-case basis as \\neligibility may depend on the severity of the \\ncondition. Such conditions include (but are \\nnot limited to) dementia (or any organic brain \\nsyndrome); behaviour disorders (including \\npost head injury syndrome and Non-\\nEpileptic Seizure Disorder); and personality \\ndisorders.', metadata={'source': 'data\\\\Method-statement.pdf', 'page': 9}),\n",
              " Document(page_content='Other groups include:\\n People with restricted visual fields, who \\nwill be refused a licence if they do not have \\na horizontal field of vision of at least 120 \\ndegrees, or if they have significant scotoma \\nencroaching within 20 degrees of the central \\nfixation point in any meridian or, sometimes, \\nif they have restricted vertical fields of vision;\\n Insulin dependent diabetics. In general \\npeople with insulin dependent diabetes can \\ncontinue to drive - though their licence may \\nbe renewable on a 1, 2, or 3-yearly basis. \\nHowever, where the person experiences \\ndisabling hypoglycaemia they will be \\nprevented from driving until their diabetes is \\ncontrolled.\\n60 The above list is not comprehensive. Any \\nperson with a cardiac, locomotor, renal or \\nneurological disorder might qualify. Where \\nthere is doubt about whether someone \\nwould be refused a driving licence, the \\nlocal authority is strongly advised to seek \\nindependent medical advice.\\n6.16 \\nWest Midlands Combined Authority will', metadata={'source': 'data\\\\Method-statement.pdf', 'page': 10}),\n",
              " Document(page_content='there is doubt about whether someone \\nwould be refused a driving licence, the \\nlocal authority is strongly advised to seek \\nindependent medical advice.\\n6.16 \\nWest Midlands Combined Authority will \\nconsider the evidence listed below for the \\npurposes of determining eligibility under this \\ncriterion:\\n Medical proof that the applicant has had a \\nseizure within the last 12 months;\\n Medical proof that the applicant currently \\nsuffers from uncontrolled hypoglycaemic \\nepisodes;\\n An assessment made by an independent \\nmedical assessor as detailed in paragraph 7.1;\\n Medical proof that the applicants condition \\nwould not meet the DVLA standards for \\nmedical fitness to drive;\\n A Certificate of Revocation from the DVLA.\\nWest Midlands Combined Authority will \\nnot accept proof that an application for a \\ndriving licence has been refused, withdrawn or surrendered if related to the persistent \\nmisuse of drugs or alcohol by the applicant.\\n7 Medical assessments\\n7.1', metadata={'source': 'data\\\\Method-statement.pdf', 'page': 10}),\n",
              " Document(page_content='driving licence has been refused, withdrawn or surrendered if related to the persistent \\nmisuse of drugs or alcohol by the applicant.\\n7 Medical assessments\\n7.1 \\nIn addition to the evidence listed in Section \\n6, West Midlands Combined Authority may \\nalso consult a medical assessor to determine\\neligibility for the travel pass. A medical \\nassessor can include a General  Practitioner, \\nConsultant Psychiatrist or Hospital \\nConsultant, but in most cases will involve an \\nindependent medical assessor.\\n7.2 \\nA medical assessor will be asked to assess \\nthe extent to which an applicant meets the \\neligibility criteria defined in section 6.\\nAssessment Clinics\\n7.3 \\nApplicants may be invited to an assessment \\nclinic, organised by West Midlands Combined \\nAuthority, to determine their eligibility. \\nApplicants will usually be given up to two \\nweeks notice of their appointment date and \\ntime. Assessment clinics will be held within \\nthe West Midlands area. Applicants will', metadata={'source': 'data\\\\Method-statement.pdf', 'page': 10}),\n",
              " Document(page_content='Applicants will usually be given up to two \\nweeks notice of their appointment date and \\ntime. Assessment clinics will be held within \\nthe West Midlands area. Applicants will \\nbe required to meet their own travel costs \\nassociated with attending an assessment \\nclinic. However West Midlands Combined \\nAuthority will, if requested, provide \\nassistance in planning a journey to an \\nassessment clinic by public transport.\\n7.4 \\nApplicants requested to attend an \\nassessment clinic will be required to bring \\nthe following to assist in determining their \\neligibility:\\n A completed questionnaire (if provided \\nby West Midlands Combined Authority in \\nadvance of the appointment);', metadata={'source': 'data\\\\Method-statement.pdf', 'page': 10}),\n",
              " Document(page_content='Proof of entitlement to any state benefits;\\n Written proof of prescribed medication/\\nprescriptions;\\n Proof of any hospital appointments/\\ntreatments relating to their disability.\\nWest Midlands Combined Authority Medical \\nAssessment Fees\\n7.5 \\nWest Midlands Combined Authority will \\nmeet the cost of acquiring a medical report \\nfrom a medical assessor if the report has \\nbeen requested by West Midlands Combined \\nAuthority.\\n7.6 \\nWest Midlands Combined Authority will \\nmeet the cost of the first appointment made \\nat a West Midlands Combined Authority \\nassessment clinic for each applicant.\\nThis cost will be limited to the payment of \\nthe medical assessors’ fees only. Applicants \\nwho either fail to attend an appointment \\nthey have accepted or fail to provide the \\nrequired notice period when cancelling \\ntheir appointment, may be liable for \\nany subsequent assessment clinic fees \\nassociated with their application. If applied, \\nthe ‘Reassessment Fee’ must be paid in', metadata={'source': 'data\\\\Method-statement.pdf', 'page': 11}),\n",
              " Document(page_content='their appointment, may be liable for \\nany subsequent assessment clinic fees \\nassociated with their application. If applied, \\nthe ‘Reassessment Fee’ must be paid in \\nfull before a further appointment at an \\nassessment clinic is made. Failure to attend \\nfor a given appointment or to promptly \\npay a Reassessment Fee may lead to an \\napplication for a concessionary travel pass \\nbeing delayed or declined. Payment of a \\nReassessment Fee may be waived if:\\n An applicant can provide medical evidence, \\nfor example proof of hospitalisation, which \\nwould have prevented attendance at the \\nappointment.\\n7.7 \\nReassessment Fees are subject to change. \\nFor information on current fees please \\ncontact West Midlands Combined Authority \\non 0345 303 6760.8 Help and further guidance\\n8.1 \\nIf you would like further advice regarding \\nconcessionary travel passes for disabled \\npeople or would like help to apply, please \\ncontact our Customer Services Team.\\nBy post: \\nTicketing Delivery, PO Box 9421,', metadata={'source': 'data\\\\Method-statement.pdf', 'page': 11}),\n",
              " Document(page_content='concessionary travel passes for disabled \\npeople or would like help to apply, please \\ncontact our Customer Services Team.\\nBy post: \\nTicketing Delivery, PO Box 9421, \\nBirmingham, B19 3TR\\nBy phone: \\n0345 303 6760\\nBy e-mail: \\ncustomerservices@tfwm.org.uk \\nOpening hours: \\n9am to 5pm Monday to Friday\\nMAR17029', metadata={'source': 'data\\\\Method-statement.pdf', 'page': 11})]"
            ]
          },
          "execution_count": 6,
          "metadata": {},
          "output_type": "execute_result"
        }
      ],
      "source": [
        "texts"
      ]
    },
    {
      "cell_type": "code",
      "execution_count": 7,
      "metadata": {},
      "outputs": [
        {
          "name": "stderr",
          "output_type": "stream",
          "text": [
            "c:\\python\\lib\\site-packages\\langchain_core\\_api\\deprecation.py:117: LangChainDeprecationWarning: The class `langchain_community.embeddings.openai.OpenAIEmbeddings` was deprecated in langchain-community 0.1.0 and will be removed in 0.2.0. An updated version of the class exists in the langchain-openai package and should be used instead. To use it run `pip install -U langchain-openai` and import as `from langchain_openai import OpenAIEmbeddings`.\n",
            "  warn_deprecated(\n"
          ]
        }
      ],
      "source": [
        "from langchain.embeddings import OpenAIEmbeddings\n",
        "from langchain.vectorstores import Chroma\n",
        "persist_directory = 'db'\n",
        "\n",
        "embedding=OpenAIEmbeddings()\n",
        "vectorstore = Chroma.from_documents(documents=texts,embedding=embedding,persist_directory=persist_directory)"
      ]
    },
    {
      "cell_type": "code",
      "execution_count": 8,
      "metadata": {},
      "outputs": [
        {
          "name": "stderr",
          "output_type": "stream",
          "text": [
            "c:\\python\\lib\\site-packages\\langchain_core\\_api\\deprecation.py:117: LangChainDeprecationWarning: The class `langchain_community.chat_models.openai.ChatOpenAI` was deprecated in langchain-community 0.0.10 and will be removed in 0.2.0. An updated version of the class exists in the langchain-openai package and should be used instead. To use it run `pip install -U langchain-openai` and import as `from langchain_openai import ChatOpenAI`.\n",
            "  warn_deprecated(\n"
          ]
        }
      ],
      "source": [
        "\n",
        "from langchain.chat_models import ChatOpenAI\n",
        "\n",
        "llm=ChatOpenAI(temperature=0, model=\"gpt-3.5-turbo-0613\")"
      ]
    },
    {
      "cell_type": "code",
      "execution_count": 9,
      "metadata": {},
      "outputs": [
        {
          "data": {
            "text/plain": [
              "'docs = vectorstore.similarity_search(question)\\nlen(docs)'"
            ]
          },
          "execution_count": 9,
          "metadata": {},
          "output_type": "execute_result"
        }
      ],
      "source": [
        "question = \"What can call off hawkeye drill\"\n",
        "'''docs = vectorstore.similarity_search(question)\n",
        "len(docs)'''"
      ]
    },
    {
      "cell_type": "code",
      "execution_count": 10,
      "metadata": {},
      "outputs": [
        {
          "name": "stderr",
          "output_type": "stream",
          "text": [
            "c:\\python\\lib\\site-packages\\langchain_core\\_api\\deprecation.py:117: LangChainDeprecationWarning: The function `__call__` was deprecated in LangChain 0.1.0 and will be removed in 0.2.0. Use invoke instead.\n",
            "  warn_deprecated(\n"
          ]
        }
      ],
      "source": [
        "from langchain.chains import RetrievalQA\n",
        "\n",
        "qa_chain = RetrievalQA.from_chain_type(\n",
        "    llm,\n",
        "    retriever=vectorstore.as_retriever(),)\n",
        "result = qa_chain({\"query\": question})"
      ]
    },
    {
      "cell_type": "code",
      "execution_count": 11,
      "metadata": {},
      "outputs": [
        {
          "name": "stdout",
          "output_type": "stream",
          "text": [
            "{'query': 'What can call off hawkeye drill', 'result': 'Based on the given context, there is no information about a \"hawkeye drill\" or any specific event or activity that can call it off. Therefore, I don\\'t have enough information to answer your question.'}\n"
          ]
        }
      ],
      "source": [
        "#This is where you stopped\n",
        "\n",
        "print(result)"
      ]
    },
    {
      "cell_type": "code",
      "execution_count": 12,
      "metadata": {},
      "outputs": [],
      "source": [
        "#To Retrieve The source documents from which the informations were gotten\n",
        "\n",
        "# create the chain to answer questions\n",
        "qa_chain = RetrievalQA.from_chain_type(llm=llm,\n",
        "                                  chain_type=\"stuff\",\n",
        "                                  retriever=vectorstore.as_retriever(),\n",
        "                                  return_source_documents=True)\n",
        "\n",
        "\n",
        "## Cite sources\n",
        "def process_llm_response(llm_response):\n",
        "    print(llm_response['result'])\n",
        "    print('\\n\\nSources:')\n",
        "    for source in llm_response[\"source_documents\"]:\n",
        "        print(source.metadata['source'])"
      ]
    },
    {
      "cell_type": "code",
      "execution_count": 13,
      "metadata": {},
      "outputs": [
        {
          "name": "stdout",
          "output_type": "stream",
          "text": [
            "Based on the provided context, there is no information about a \"hawkeye drill\" or what could call it off. Therefore, I don't have enough information to answer your question.\n",
            "\n",
            "\n",
            "Sources:\n",
            "data\\Method-statement.pdf\n",
            "data\\Method-statement.pdf\n",
            "data\\Method-statement.pdf\n",
            "data\\Method-statement.pdf\n"
          ]
        }
      ],
      "source": [
        "# full example\n",
        "query = \"What can call off hawkeye drill?\"\n",
        "llm_response = qa_chain(query)\n",
        "process_llm_response(llm_response)"
      ]
    },
    {
      "cell_type": "code",
      "execution_count": 14,
      "metadata": {
        "id": "Jl84qGQt5Wu5"
      },
      "outputs": [
        {
          "ename": "NameError",
          "evalue": "name 'vectordb' is not defined",
          "output_type": "error",
          "traceback": [
            "\u001b[1;31m---------------------------------------------------------------------------\u001b[0m",
            "\u001b[1;31mNameError\u001b[0m                                 Traceback (most recent call last)",
            "Cell \u001b[1;32mIn[14], line 2\u001b[0m\n\u001b[0;32m      1\u001b[0m \u001b[38;5;66;03m# To cleanup, you can delete the collection\u001b[39;00m\n\u001b[1;32m----> 2\u001b[0m \u001b[43mvectordb\u001b[49m\u001b[38;5;241m.\u001b[39mdelete_collection()\n\u001b[0;32m      3\u001b[0m vectordb\u001b[38;5;241m.\u001b[39mpersist()\n\u001b[0;32m      5\u001b[0m \u001b[38;5;66;03m# delete the directory\u001b[39;00m\n",
            "\u001b[1;31mNameError\u001b[0m: name 'vectordb' is not defined"
          ]
        }
      ],
      "source": [
        "# To cleanup, you can delete the collection\n",
        "vectordb.delete_collection()\n",
        "vectordb.persist()\n",
        "\n",
        "# delete the directory\n",
        "!rm -rf db/"
      ]
    },
    {
      "cell_type": "code",
      "execution_count": null,
      "metadata": {
        "colab": {
          "base_uri": "https://localhost:8080/"
        },
        "id": "mDp-g2FtKCfk",
        "outputId": "766f131a-daaf-462f-842a-f7bd10a081fd"
      },
      "outputs": [],
      "source": []
    }
  ],
  "metadata": {
    "colab": {
      "provenance": []
    },
    "kernelspec": {
      "display_name": "Python 3",
      "name": "python3"
    },
    "language_info": {
      "codemirror_mode": {
        "name": "ipython",
        "version": 3
      },
      "file_extension": ".py",
      "mimetype": "text/x-python",
      "name": "python",
      "nbconvert_exporter": "python",
      "pygments_lexer": "ipython3",
      "version": "3.10.0"
    }
  },
  "nbformat": 4,
  "nbformat_minor": 0
}
